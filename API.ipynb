{
 "cells": [
  {
   "cell_type": "code",
   "execution_count": 3,
   "metadata": {},
   "outputs": [],
   "source": [
    "import requests\n",
    "response=requests.get('https://codingninjas.in/api/v3/courses')"
   ]
  },
  {
   "cell_type": "code",
   "execution_count": 4,
   "metadata": {},
   "outputs": [
    {
     "name": "stdout",
     "output_type": "stream",
     "text": [
      "200\n",
      "None\n",
      "https://codingninjas.in/api/v3/courses\n",
      "{'Date': 'Thu, 16 Dec 2021 08:20:36 GMT', 'Content-Type': 'application/json', 'Transfer-Encoding': 'chunked', 'Connection': 'keep-alive', 'Server': 'nginx', 'X-Frame-Options': 'SAMEORIGIN', 'X-XSS-Protection': '1; mode=block', 'X-Content-Type-Options': 'nosniff', 'Access-Control-Allow-Origin': '*', 'Access-Control-Allow-Methods': 'POST, GET, PATCH, PUT, DELETE, OPTIONS', 'Access-Control-Allow-Headers': 'Access-Control-Allow-Headers, Origin,Accept, X-Requested-With, Content-Type, Access-Control-Request-Method, Access-Control-Request-Headers, Authorization', 'Access-Control-Max-Age': '1728000', 'Vary': 'Accept-Encoding', 'Content-Encoding': 'gzip', 'ETag': 'W/\"c40785db6880343ded4b1d9b09b7df20\"', 'Cache-Control': 'max-age=0, private, must-revalidate', 'X-Request-Id': 'a125e618-9192-4a19-9b17-e6bcf5723ec6', 'X-Runtime': '0.011116', 'Strict-Transport-Security': 'max-age=31536000; includeSubDomains;'}\n",
      "Thu, 16 Dec 2021 08:20:36 GMT\n",
      "application/json\n"
     ]
    }
   ],
   "source": [
    "print(response.status_code)\n",
    "print(response.encoding)\n",
    "#print(response.text)\n",
    "print(response.url)\n",
    "header_info = response.headers\n",
    "#print(type(response.headers))\n",
    "print(header_info)\n",
    "print(header_info['Date'])\n",
    "print(header_info['Content-Type'])"
   ]
  },
  {
   "cell_type": "code",
   "execution_count": 5,
   "metadata": {},
   "outputs": [
    {
     "name": "stdout",
     "output_type": "stream",
     "text": [
      "<class 'str'>\n"
     ]
    }
   ],
   "source": [
    "import json\n",
    "json_data = '{\"student\" : \"mohit\"}'\n",
    "#python_data = json.loads(json_data)\n",
    "print(type(json_data))"
   ]
  },
  {
   "cell_type": "code",
   "execution_count": 6,
   "metadata": {},
   "outputs": [
    {
     "name": "stdout",
     "output_type": "stream",
     "text": [
      "{'roll_no': 20}\n",
      "<class 'dict'>\n",
      "20\n"
     ]
    }
   ],
   "source": [
    "json_data2 = '{\"roll_no\" : 20}'\n",
    "python_data2 = json.loads(json_data2)\n",
    "print(python_data2)\n",
    "print(type(python_data2))\n",
    "print(python_data2['roll_no'])"
   ]
  },
  {
   "cell_type": "code",
   "execution_count": 7,
   "metadata": {},
   "outputs": [
    {
     "name": "stdout",
     "output_type": "stream",
     "text": [
      "<class 'dict'>\n",
      "\n",
      "\n",
      "Name:\n",
      "rishabh soni\n",
      "mohit\n",
      "\n",
      "\n",
      "Roll_No:\n",
      "1\n",
      "2\n",
      "\n",
      "\n",
      "id:\n",
      "5\n",
      "34\n"
     ]
    }
   ],
   "source": [
    "json_data3 = '{\"students\" : [{\"name\" : \"rishabh soni\", \"roll_no\" : 1 , \"id\" :5},{\"name\" : \"mohit\" , \"roll_no\":2,\"id\":34}]}'\n",
    "python_data3 = json.loads(json_data3)\n",
    "student_details = python_data3['students']\n",
    "print(type(python_data3))\n",
    "print(\"\\n\")\n",
    "#print(student_details)\n",
    "print(\"Name:\")\n",
    "for i in student_details:\n",
    "    print(i[\"name\"])\n",
    "print(\"\\n\")\n",
    "#print(len(student_details)) \n",
    "print(\"Roll_No:\")\n",
    "for i in student_details:\n",
    "    print(i[\"roll_no\"])\n",
    "print(\"\\n\")\n",
    "print(\"id:\")\n",
    "for i in student_details:\n",
    "    print(i[\"id\"])\n",
    "#print(student_details['roll_no1']) this is the wrong way, we have to iterate in a list for any kind of operation!\n",
    "#print(student_details['id1'])"
   ]
  },
  {
   "cell_type": "code",
   "execution_count": 8,
   "metadata": {
    "scrolled": true
   },
   "outputs": [
    {
     "name": "stdout",
     "output_type": "stream",
     "text": [
      "https://dog.ceo/api/breeds/list/all\n",
      "afghan\n",
      "basset\n",
      "blood\n",
      "english\n",
      "ibizan\n",
      "plott\n",
      "walker\n"
     ]
    }
   ],
   "source": [
    "p = requests.get('https://dog.ceo/api/breeds/list/all')\n",
    "python_data = p.json()\n",
    "#print(p.text)\n",
    "print(p.url)\n",
    "#for key,value in python_data['message'].items():\n",
    "#    print(key, \":\", len(value))\n",
    "for i in python_data['message']['hound']:\n",
    "    print(i)"
   ]
  },
  {
   "cell_type": "code",
   "execution_count": 23,
   "metadata": {},
   "outputs": [
    {
     "name": "stdout",
     "output_type": "stream",
     "text": [
      "200\n",
      "https://api.openaq.org/v1/cities?country=US\n",
      "None\n",
      "{'meta': {'name': 'openaq-api', 'license': 'CC BY 4.0d', 'website': 'https://u50g7n0cbj.execute-api.us-east-1.amazonaws.com/', 'page': 1, 'limit': 100, 'found': 810}, 'results': [{'country': 'US', 'name': '007', 'city': '007', 'count': 1372, 'locations': 5}, {'country': 'US', 'name': '019', 'city': '019', 'count': 704, 'locations': 1}, {'country': 'US', 'name': '037', 'city': '037', 'count': 2683, 'locations': 23}, {'country': 'US', 'name': '039', 'city': '039', 'count': 380, 'locations': 1}, {'country': 'US', 'name': '047', 'city': '047', 'count': 101, 'locations': 1}, {'country': 'US', 'name': '051', 'city': '051', 'count': 330, 'locations': 7}, {'country': 'US', 'name': '077', 'city': '077', 'count': 670334, 'locations': 1}, {'country': 'US', 'name': 'ABBEVILLE', 'city': 'ABBEVILLE', 'count': 4619, 'locations': 1}, {'country': 'US', 'name': 'Aberdeen', 'city': 'Aberdeen', 'count': 43018851, 'locations': 2}, {'country': 'US', 'name': 'ADA', 'city': 'ADA', 'count': 29956005, 'locations': 2}, {'country': 'US', 'name': 'ADAIR', 'city': 'ADAIR', 'count': 32778896, 'locations': 1}, {'country': 'US', 'name': 'ADAMS', 'city': 'ADAMS', 'count': 28230007, 'locations': 2}, {'country': 'US', 'name': 'Adrian', 'city': 'Adrian', 'count': 30420094, 'locations': 1}, {'country': 'US', 'name': 'Akron', 'city': 'Akron', 'count': 89012191, 'locations': 4}, {'country': 'US', 'name': 'ALAMEDA', 'city': 'ALAMEDA', 'count': 138178595, 'locations': 1}, {'country': 'US', 'name': 'Albany', 'city': 'Albany', 'count': 24827728, 'locations': 1}, {'country': 'US', 'name': 'Albany-Lebanon', 'city': 'Albany-Lebanon', 'count': 60300633, 'locations': 2}, {'country': 'US', 'name': 'Albany-Schenectady-Troy', 'city': 'Albany-Schenectady-Troy', 'count': 58998285, 'locations': 3}, {'country': 'US', 'name': 'Albuquerque', 'city': 'Albuquerque', 'count': 579094846, 'locations': 7}, {'country': 'US', 'name': 'ALEXANDER', 'city': 'ALEXANDER', 'count': 41224, 'locations': 1}, {'country': 'US', 'name': 'Allegan', 'city': 'Allegan', 'count': 29715900, 'locations': 1}, {'country': 'US', 'name': 'ALLEGANY', 'city': 'ALLEGANY', 'count': 32122, 'locations': 2}, {'country': 'US', 'name': 'Allentown-Bethlehem-Easton', 'city': 'Allentown-Bethlehem-Easton', 'count': 116272910, 'locations': 3}, {'country': 'US', 'name': 'Altoona', 'city': 'Altoona', 'count': 58678630, 'locations': 1}, {'country': 'US', 'name': 'AMADOR', 'city': 'AMADOR', 'count': 25500192, 'locations': 2}, {'country': 'US', 'name': 'Amarillo', 'city': 'Amarillo', 'count': 25262749, 'locations': 2}, {'country': 'US', 'name': 'Americus', 'city': 'Americus', 'count': 22297, 'locations': 1}, {'country': 'US', 'name': 'Ames', 'city': 'Ames', 'count': 4773, 'locations': 1}, {'country': 'US', 'name': 'Anchorage', 'city': 'Anchorage', 'count': 150005877, 'locations': 3}, {'country': 'US', 'name': 'ANCHORAGE', 'city': 'ANCHORAGE', 'count': 828, 'locations': 1}, {'country': 'US', 'name': 'Anderson', 'city': 'Anderson', 'count': 58522484, 'locations': 3}, {'country': 'US', 'name': 'ANDERSON', 'city': 'ANDERSON', 'count': 21946, 'locations': 2}, {'country': 'US', 'name': 'ANDREW', 'city': 'ANDREW', 'count': 22223, 'locations': 1}, {'country': 'US', 'name': 'Ann Arbor', 'city': 'Ann Arbor', 'count': 48743393, 'locations': 2}, {'country': 'US', 'name': 'ANNE ARUNDEL', 'city': 'ANNE ARUNDEL', 'count': 1772, 'locations': 1}, {'country': 'US', 'name': 'Appleton', 'city': 'Appleton', 'count': 30407625, 'locations': 1}, {'country': 'US', 'name': 'ARAPAHOE', 'city': 'ARAPAHOE', 'count': 26051460, 'locations': 1}, {'country': 'US', 'name': 'ARCHULETA', 'city': 'ARCHULETA', 'count': 29371591, 'locations': 1}, {'country': 'US', 'name': 'Ardmore', 'city': 'Ardmore', 'count': 52194981, 'locations': 2}, {'country': 'US', 'name': 'Arkadelphia', 'city': 'Arkadelphia', 'count': 24678954, 'locations': 1}, {'country': 'US', 'name': 'AROOSTOOK', 'city': 'AROOSTOOK', 'count': 220386633, 'locations': 5}, {'country': 'US', 'name': 'Asheville', 'city': 'Asheville', 'count': 30399219, 'locations': 7}, {'country': 'US', 'name': 'ASHLAND', 'city': 'ASHLAND', 'count': 59407485, 'locations': 1}, {'country': 'US', 'name': 'Ashtabula', 'city': 'Ashtabula', 'count': 29338222, 'locations': 1}, {'country': 'US', 'name': 'ASOTIN', 'city': 'ASOTIN', 'count': 27828837, 'locations': 1}, {'country': 'US', 'name': 'Athens', 'city': 'Athens', 'count': 26249613, 'locations': 2}, {'country': 'US', 'name': 'Athens-Clarke County', 'city': 'Athens-Clarke County', 'count': 59805578, 'locations': 1}, {'country': 'US', 'name': 'Atlanta', 'city': 'Atlanta', 'count': 794, 'locations': 1}, {'country': 'US', 'name': 'Atlanta-Sandy Springs-Marietta', 'city': 'Atlanta-Sandy Springs-Marietta', 'count': 415200114, 'locations': 13}, {'country': 'US', 'name': 'Atlantic City', 'city': 'Atlantic City', 'count': 74865517, 'locations': 1}, {'country': 'US', 'name': 'Augusta-Richmond County', 'city': 'Augusta-Richmond County', 'count': 135141466, 'locations': 4}, {'country': 'US', 'name': 'Augusta-Waterville', 'city': 'Augusta-Waterville', 'count': 65758, 'locations': 2}, {'country': 'US', 'name': 'Austin-Round Rock', 'city': 'Austin-Round Rock', 'count': 58205422, 'locations': 11}, {'country': 'US', 'name': 'AVERY', 'city': 'AVERY', 'count': 24178991, 'locations': 3}, {'country': 'US', 'name': 'BAKER', 'city': 'BAKER', 'count': 30158812, 'locations': 1}, {'country': 'US', 'name': 'Bakersfield', 'city': 'Bakersfield', 'count': 403018389, 'locations': 15}, {'country': 'US', 'name': 'BALTIMORE', 'city': 'BALTIMORE', 'count': 29854514, 'locations': 2}, {'country': 'US', 'name': 'Baltimore-Towson', 'city': 'Baltimore-Towson', 'count': 279367469, 'locations': 10}, {'country': 'US', 'name': 'Bangor', 'city': 'Bangor', 'count': 42049, 'locations': 3}, {'country': 'US', 'name': 'BANNOCK', 'city': 'BANNOCK', 'count': 29327788, 'locations': 1}, {'country': 'US', 'name': 'Baraboo', 'city': 'Baraboo', 'count': 58852708, 'locations': 1}, {'country': 'US', 'name': 'Barnstable Town', 'city': 'Barnstable Town', 'count': 25982563, 'locations': 1}, {'country': 'US', 'name': 'BARTHOLOMEW', 'city': 'BARTHOLOMEW', 'count': 5, 'locations': 1}, {'country': 'US', 'name': 'Baton Rouge', 'city': 'Baton Rouge', 'count': 311586610, 'locations': 9}, {'country': 'US', 'name': 'BAYAMON', 'city': 'BAYAMON', 'count': 11616, 'locations': 1}, {'country': 'US', 'name': 'Bay City', 'city': 'Bay City', 'count': 30371657, 'locations': 1}, {'country': 'US', 'name': 'BEAUFORT', 'city': 'BEAUFORT', 'count': 24769561, 'locations': 1}, {'country': 'US', 'name': 'Beaumont-Port Arthur', 'city': 'Beaumont-Port Arthur', 'count': 207997986, 'locations': 10}, {'country': 'US', 'name': 'BECKER', 'city': 'BECKER', 'count': 30395872, 'locations': 1}, {'country': 'US', 'name': 'Bellingham', 'city': 'Bellingham', 'count': 46611466, 'locations': 3}, {'country': 'US', 'name': 'BELMONT', 'city': 'BELMONT', 'count': 58741844, 'locations': 1}, {'country': 'US', 'name': 'BELTRAMI', 'city': 'BELTRAMI', 'count': 30179649, 'locations': 1}, {'country': 'US', 'name': 'Bend', 'city': 'Bend', 'count': 46505321, 'locations': 2}, {'country': 'US', 'name': 'BENEWAH', 'city': 'BENEWAH', 'count': 47348014, 'locations': 2}, {'country': 'US', 'name': 'Bennington', 'city': 'Bennington', 'count': 56942909, 'locations': 1}, {'country': 'US', 'name': 'BERKELEY', 'city': 'BERKELEY', 'count': 4705, 'locations': 1}, {'country': 'US', 'name': 'BERKS', 'city': 'BERKS', 'count': 21622137, 'locations': 1}, {'country': 'US', 'name': 'BERKSHIRE', 'city': 'BERKSHIRE', 'count': 80690246, 'locations': 3}, {'country': 'US', 'name': 'Berlin', 'city': 'Berlin', 'count': 33073, 'locations': 4}, {'country': 'US', 'name': 'BERNALILLO', 'city': 'BERNALILLO', 'count': 9292, 'locations': 1}, {'country': 'US', 'name': 'BETHEL', 'city': 'BETHEL', 'count': 24152, 'locations': 1}, {'country': 'US', 'name': 'BIG HORN', 'city': 'BIG HORN', 'count': 29588070, 'locations': 1}, {'country': 'US', 'name': 'Billings', 'city': 'Billings', 'count': 8612, 'locations': 1}, {'country': 'US', 'name': 'Birmingham', 'city': 'Birmingham', 'count': 168, 'locations': 1}, {'country': 'US', 'name': 'Birmingham-Hoover', 'city': 'Birmingham-Hoover', 'count': 274745312, 'locations': 12}, {'country': 'US', 'name': 'Bishop', 'city': 'Bishop', 'count': 574959137, 'locations': 19}, {'country': 'US', 'name': 'Blacksburg-Christiansburg-Radford', 'city': 'Blacksburg-Christiansburg-Radford', 'count': 17759, 'locations': 1}, {'country': 'US', 'name': 'BLAINE', 'city': 'BLAINE', 'count': 29171086, 'locations': 1}, {'country': 'US', 'name': 'Bloomington', 'city': 'Bloomington', 'count': 30026060, 'locations': 2}, {'country': 'US', 'name': 'Bloomington-Normal', 'city': 'Bloomington-Normal', 'count': 29611903, 'locations': 1}, {'country': 'US', 'name': 'BOISE', 'city': 'BOISE', 'count': 59877286, 'locations': 2}, {'country': 'US', 'name': 'Boise City-Nampa', 'city': 'Boise City-Nampa', 'count': 266676406, 'locations': 5}, {'country': 'US', 'name': 'BOLIVAR', 'city': 'BOLIVAR', 'count': 30532272, 'locations': 1}, {'country': 'US', 'name': 'BONNER', 'city': 'BONNER', 'count': 57384240, 'locations': 1}, {'country': 'US', 'name': 'Boston', 'city': 'Boston', 'count': 2349, 'locations': 1}, {'country': 'US', 'name': 'Boston-Cambridge-Quincy', 'city': 'Boston-Cambridge-Quincy', 'count': 519326167, 'locations': 19}, {'country': 'US', 'name': 'Boulder', 'city': 'Boulder', 'count': 54944713, 'locations': 2}, {'country': 'US', 'name': 'BOULDER', 'city': 'BOULDER', 'count': 27701453, 'locations': 1}, {'country': 'US', 'name': 'BOUNDARY', 'city': 'BOUNDARY', 'count': 25187401, 'locations': 3}, {'country': 'US', 'name': 'Bowling Green', 'city': 'Bowling Green', 'count': 29557717, 'locations': 1}]}\n"
     ]
    }
   ],
   "source": [
    "a = requests.get('https://api.openaq.org/v1/cities' , params = {\"country\" : \"US\"})\n",
    "print(a.status_code)\n",
    "print(a.url)\n",
    "print(a.encoding)\n",
    "b= a.json()\n",
    "print(b)"
   ]
  },
  {
   "cell_type": "code",
   "execution_count": 33,
   "metadata": {},
   "outputs": [
    {
     "name": "stdout",
     "output_type": "stream",
     "text": [
      "200\n",
      "https://www.metaweather.com/api/location/search/?query=delhi\n"
     ]
    }
   ],
   "source": [
    "x=requests.get('https://www.metaweather.com/api/location/search/' , params={\"query\" : \"delhi\"})\n",
    "print(x.status_code)\n",
    "print(x.url)"
   ]
  },
  {
   "cell_type": "code",
   "execution_count": 30,
   "metadata": {},
   "outputs": [
    {
     "name": "stdout",
     "output_type": "stream",
     "text": [
      "https://api.nasa.gov/planetary/apod?api_key=DEMO_KEY\n"
     ]
    }
   ],
   "source": [
    "y = requests.get('https://api.nasa.gov/planetary/apod' , params = {\"api_key\" : \"DEMO_KEY\"})\n",
    "print(y.url)"
   ]
  },
  {
   "cell_type": "code",
   "execution_count": null,
   "metadata": {},
   "outputs": [],
   "source": []
  }
 ],
 "metadata": {
  "kernelspec": {
   "display_name": "Python 3",
   "language": "python",
   "name": "python3"
  },
  "language_info": {
   "codemirror_mode": {
    "name": "ipython",
    "version": 3
   },
   "file_extension": ".py",
   "mimetype": "text/x-python",
   "name": "python",
   "nbconvert_exporter": "python",
   "pygments_lexer": "ipython3",
   "version": "3.8.5"
  }
 },
 "nbformat": 4,
 "nbformat_minor": 4
}
